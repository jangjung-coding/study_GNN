{
 "cells": [
  {
   "cell_type": "markdown",
   "metadata": {},
   "source": [
    "# Deep Lerning on Grapics : An Introduction\n",
    "Ref : https://wikidocs.net/205060"
   ]
  },
  {
   "cell_type": "markdown",
   "metadata": {},
   "source": [
    "## Why Deep Learning on Graphs?\n",
    "\n",
    "GNN stands for Graph Neural Networks, and they are used for deep learning on graphs. Graphs are a powerful way to represent complex relationships and dependencies between entities, such as social networks, molecular structures, or recommendation systems.\n",
    "\n",
    "There are several reasons why we use GNNs:\n",
    "\n",
    "1. **Modeling Graph Structure**: GNNs are specifically designed to capture the structural information of graphs. They can effectively learn and represent the relationships between nodes and edges in a graph, allowing us to analyze and understand the underlying patterns and dynamics.\n",
    "\n",
    "2. **Node and Graph-Level Representations**: GNNs can learn meaningful representations for both individual nodes and the entire graph. By aggregating information from neighboring nodes, GNNs can generate rich and expressive embeddings that capture the context and characteristics of each node. These embeddings can be used for various downstream tasks, such as node classification, link prediction, or graph classification.\n",
    "\n",
    "3. **Handling Irregular Data**: Graphs often contain irregular and varying data structures. GNNs are capable of handling such data by leveraging message passing mechanisms. They propagate information between connected nodes, allowing each node to update its representation based on the information from its neighbors. This enables GNNs to handle graphs of different sizes and structures.\n",
    "\n",
    "4. **Incorporating Node Features**: GNNs can easily incorporate additional features associated with nodes or edges. These features can provide valuable information about the nodes' attributes, such as node labels, node attributes, or edge weights. By combining the structural information with the node features, GNNs can enhance their predictive power and capture more nuanced patterns in the data.\n",
    "\n",
    "Overall, GNNs provide a powerful framework for deep learning on graphs, enabling us to leverage the rich structural information and relationships present in graph data. They have been successfully applied to various domains, including social network analysis, bioinformatics, recommendation systems, and many more."
   ]
  },
  {
   "cell_type": "markdown",
   "metadata": {},
   "source": [
    "## A Brief History\n",
    "\n",
    "**Early Roots**\n",
    "\n",
    "- 1980s: The concept of \"neural networks\" emerged, but they were primarily focused on processing data in a linear fashion.\n",
    "\n",
    "- 1990s: Researchers started exploring ways to apply neural networks to graph-structured data. This led to early models like \"Recursive Neural Networks\" (RNNs) that could handle sequences of data, but they weren't specifically designed for graphs.\n",
    "\n",
    "**The Rise of GNNs**\n",
    "\n",
    "- 2000s: The field of \"graph mining\" gained traction, focusing on extracting valuable information from graph data. This paved the way for GNNs.\n",
    "\n",
    "- 2010s: The \"Deep Learning\" revolution brought powerful new techniques, and researchers began applying them to graph problems. This led to the development of the first true GNNs, like \"Graph Convolutional Networks\" (GCNs).\n",
    "\n",
    "**Key Milestones**\n",
    "\n",
    "- 2017: The paper \"Convolutional Neural Networks on Graphs with Fast Localized Spectral Filtering\" by Kipf and Welling introduced GCNs, which became a cornerstone of the field.\n",
    "2018: The \"GraphSAGE\" model was proposed, allowing for scalable GNN training on large graphs.\n",
    "\n",
    "- 2019: The \"GAT\" (Graph Attention Network) model emerged, using attention mechanisms to learn more sophisticated relationships between nodes.\n",
    "\n",
    "**Today**\n",
    "\n",
    "GNNs are rapidly evolving, with new architectures and applications emerging constantly. They're being used in various fields, including:\n",
    "\n",
    "- Drug discovery: Predicting drug interactions and identifying potential drug candidates.\n",
    "- Social network analysis: Understanding user behavior and detecting fraudulent activity.\n",
    "Recommendation systems: Providing personalized recommendations based on user preferences and connections.\n",
    "- Traffic prediction: Forecasting traffic patterns and optimizing transportation systems."
   ]
  },
  {
   "cell_type": "markdown",
   "metadata": {},
   "source": []
  },
  {
   "cell_type": "code",
   "execution_count": null,
   "metadata": {
    "vscode": {
     "languageId": "plaintext"
    }
   },
   "outputs": [],
   "source": []
  }
 ],
 "metadata": {
  "kernelspec": {
   "display_name": "base",
   "language": "python",
   "name": "python3"
  },
  "language_info": {
   "codemirror_mode": {
    "name": "ipython",
    "version": 3
   },
   "file_extension": ".py",
   "mimetype": "text/x-python",
   "name": "python",
   "nbconvert_exporter": "python",
   "pygments_lexer": "ipython3",
   "version": "3.11.7"
  }
 },
 "nbformat": 4,
 "nbformat_minor": 2
}
