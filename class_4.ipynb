{
 "cells": [
  {
   "cell_type": "markdown",
   "metadata": {},
   "source": [
    "# Link Prediction Task and Features\n",
    "\n",
    "Ref : https://www.youtube.com/watch?v=4dVwlE9jYxY&list=PLoROMvodv4rPLKxIpqhjhPgdQy7imNkDn&index=6"
   ]
  },
  {
   "cell_type": "markdown",
   "metadata": {},
   "source": [
    "## Two formulations of the link prediction task\n",
    "\n",
    "### 1. Links Missing at Random (MAR)\n",
    "\n",
    "- The Scenario: Imagine you have a social network where some friendships are hidden. Maybe people haven't connected yet, or their connection is private. The goal is to predict these missing links based on the existing connections.\n",
    "\n",
    "- The Assumption: The missing links are assumed to be randomly distributed. This means that the absence of a link doesn't tell us anything about the likelihood of it existing.\n",
    "\n",
    "- Example: If you know two people have similar interests and are in the same city, but aren't friends yet, MAR assumes their lack of connection is purely random.\n",
    "\n",
    "### 2. Links Over Time (LOT)\n",
    "\n",
    "- The Scenario: Now, imagine a network where connections evolve over time. Think of a social network where friendships form, break, and change. The goal is to predict how these connections will change in the future.\n",
    "\n",
    "- The Assumption: The evolution of links is influenced by factors like time, user behavior, and network dynamics.\n",
    "\n",
    "- Example: If two people were friends in the past but haven't interacted recently, LOT would consider this information to predict if their friendship will continue or fade.\n",
    "\n",
    "### Key Differences:\n",
    "\n",
    "- MAR focuses on static networks: It assumes the network structure is fixed, and the task is to fill in missing pieces.\n",
    "\n",
    "- LOT focuses on dynamic networks: It considers the temporal aspect of connections, predicting how they change over time.\n"
   ]
  },
  {
   "cell_type": "markdown",
   "metadata": {},
   "source": [
    "##  Link prediction using proximity methods\n",
    "\n",
    "1. Define \"Proximity\": We need to figure out what \"close\" means in the context of our network. This could be:\n",
    "\n",
    "- Physical proximity: For example, people living in the same city or countries.\n",
    "- Social proximity: People sharing similar interests, belonging to the same groups, or having common friends.\n",
    "- Content proximity: Websites with similar content, documents with overlapping keywords, or products with similar features.\n",
    "\n",
    "2. Measure Proximity: We use various metrics to quantify how close two entities are. Some common ones include:\n",
    "\n",
    "- Shortest path distance: The number of hops (connections) between two nodes in a network.\n",
    "- Common neighbors: The number of shared connections between two nodes.\n",
    "- Jaccard similarity: The ratio of shared features (like interests or keywords) to the total number of features.\n",
    "- Cosine similarity: A measure of the angle between two vectors representing entities, often used for content-based proximity.\n",
    "\n",
    "3. Predict Links: Based on the proximity scores, we predict links between entities that are \"close\" together. For example:\n",
    "\n",
    "- High shortest path distance: Two nodes with a short path between them are more likely to be connected.\n",
    "- Many common neighbors: Nodes with many shared connections are more likely to be linked.\n",
    "- High Jaccard similarity: Entities with similar features are more likely to be connected.\n",
    "\n",
    "### Example:\n",
    "\n",
    "Imagine a social network where people are connected based on their interests. Two people with many shared interests (high Jaccard similarity) are more likely to be friends than two people with very different interests.\n",
    "\n",
    "### Advantages of Proximity Methods:\n",
    "\n",
    "- Intuitive: The concept of proximity is easy to understand and relate to.\n",
    "- Simple to implement: Many proximity metrics are straightforward to calculate.\n",
    "- Effective for various network types: They can be applied to social networks, knowledge graphs, and other types of networks.\n",
    "\n",
    "### Limitations:\n",
    "\n",
    "- Limited to local information: Proximity methods primarily consider local connections and may miss global patterns.\n",
    "- Can be sensitive to network structure: The effectiveness of proximity methods can vary depending on the network's topology."
   ]
  },
  {
   "cell_type": "markdown",
   "metadata": {},
   "source": []
  }
 ],
 "metadata": {
  "language_info": {
   "name": "python"
  }
 },
 "nbformat": 4,
 "nbformat_minor": 2
}
